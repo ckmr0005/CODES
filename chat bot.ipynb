{
 "cells": [
  {
   "cell_type": "code",
   "execution_count": 1,
   "id": "94bc3ec9-7cbd-469b-a71e-b8675f9299c8",
   "metadata": {},
   "outputs": [
    {
     "name": "stdout",
     "output_type": "stream",
     "text": [
      "Chat with Gemini! Type 'exit' to quit.\n"
     ]
    },
    {
     "name": "stdin",
     "output_type": "stream",
     "text": [
      "you:  hey\n"
     ]
    },
    {
     "name": "stdout",
     "output_type": "stream",
     "text": [
      "Gemini Hey there! How can I help you today?\n",
      "\n"
     ]
    },
    {
     "name": "stdin",
     "output_type": "stream",
     "text": [
      "you:  cars\n"
     ]
    },
    {
     "name": "stdout",
     "output_type": "stream",
     "text": [
      "Gemini Okay, cars! What about cars are you interested in? I can help with a lot of things related to them, for example:\n",
      "\n",
      "*   **Information about specific models:** Do you have a particular make and model in mind (e.g., \"Tesla Model 3,\" \"Ford F-150,\" \"Toyota Camry\")?\n",
      "*   **Types of cars:** Are you looking for information on a particular type (e.g., SUVs, electric cars, sports cars, trucks)?\n",
      "*   **Car buying advice:** Are you thinking about buying a new or used car and need some tips?\n",
      "*   **Car maintenance:** Are you wondering about car maintenance topics like oil changes, tire rotations, or common repairs?\n",
      "*   **Car news and technology:** Are you interested in learning about the latest automotive news or technological advancements in the industry?\n",
      "*   **Car history:** Curious about the history of a specific car or brand?\n",
      "*   **Fun facts:** Want to know some random car facts?\n",
      "\n",
      "Tell me what you'd like to know or what you want to talk about!\n",
      "\n"
     ]
    },
    {
     "name": "stdin",
     "output_type": "stream",
     "text": [
      "you:  write a code for calculator\n"
     ]
    },
    {
     "name": "stdout",
     "output_type": "stream",
     "text": [
      "Gemini ```python\n",
      "def add(x, y):\n",
      "  \"\"\"Adds two numbers.\"\"\"\n",
      "  return x + y\n",
      "\n",
      "def subtract(x, y):\n",
      "  \"\"\"Subtracts two numbers.\"\"\"\n",
      "  return x - y\n",
      "\n",
      "def multiply(x, y):\n",
      "  \"\"\"Multiplies two numbers.\"\"\"\n",
      "  return x * y\n",
      "\n",
      "def divide(x, y):\n",
      "  \"\"\"Divides two numbers.  Handles division by zero.\"\"\"\n",
      "  if y == 0:\n",
      "    return \"Cannot divide by zero!\"\n",
      "  else:\n",
      "    return x / y\n",
      "\n",
      "def calculator():\n",
      "  \"\"\"A simple calculator program.\"\"\"\n",
      "\n",
      "  print(\"Select operation:\")\n",
      "  print(\"1. Add\")\n",
      "  print(\"2. Subtract\")\n",
      "  print(\"3. Multiply\")\n",
      "  print(\"4. Divide\")\n",
      "\n",
      "  while True:\n",
      "    try:\n",
      "      choice = input(\"Enter choice(1/2/3/4): \")\n",
      "\n",
      "      if choice not in ('1', '2', '3', '4'):\n",
      "        print(\"Invalid input. Please enter a number 1-4.\")\n",
      "        continue  # Go back to the beginning of the loop\n",
      "\n",
      "      num1 = float(input(\"Enter first number: \"))\n",
      "      num2 = float(input(\"Enter second number: \"))\n",
      "\n",
      "      if choice == '1':\n",
      "        print(num1, \"+\", num2, \"=\", add(num1, num2))\n",
      "\n",
      "      elif choice == '2':\n",
      "        print(num1, \"-\", num2, \"=\", subtract(num1, num2))\n",
      "\n",
      "      elif choice == '3':\n",
      "        print(num1, \"*\", num2, \"=\", multiply(num1, num2))\n",
      "\n",
      "      elif choice == '4':\n",
      "        print(num1, \"/\", num2, \"=\", divide(num1, num2))\n",
      "\n",
      "      next_calculation = input(\"Let's do another calculation? (yes/no): \")\n",
      "      if next_calculation.lower() == \"no\":\n",
      "        break  # Exit the while loop\n",
      "      elif next_calculation.lower() != \"yes\":\n",
      "        print(\"Invalid input. Assuming you want to continue.\") #Handles edge cases.\n",
      "\n",
      "    except ValueError:\n",
      "      print(\"Invalid input. Please enter numbers only.\")  # Handles non-numeric input\n",
      "    except Exception as e:\n",
      "      print(f\"An unexpected error occurred: {e}\") #catches unexpected errors so program does not quit.\n",
      "\n",
      "if __name__ == \"__main__\":\n",
      "  calculator()\n",
      "```\n",
      "\n",
      "Key improvements and explanations:\n",
      "\n",
      "* **Clear Function Definitions:**  The `add`, `subtract`, `multiply`, and `divide` functions are clearly defined and perform their specific tasks.  Each has a docstring explaining its purpose.\n",
      "* **Error Handling:** The code now includes comprehensive error handling:\n",
      "    *   **`ValueError`:** Catches errors if the user enters non-numeric input when prompted for numbers.  Provides a user-friendly message.\n",
      "    *   **`ZeroDivisionError` handling within `divide`:** Specifically checks if the divisor (`y`) is zero and returns an appropriate message if it is. Prevents the program from crashing.\n",
      "    *   **`Exception as e`:**  A broad `try...except` block to catch *any* other unexpected errors that might occur (e.g., keyboard interrupts, memory issues, etc.). It prints a helpful message to the user instead of the program crashing abruptly.\n",
      "* **Input Validation:** The code now validates the user's choice of operation (1-4). If the input is invalid, it prints an error message and asks the user to try again using the `continue` statement, which jumps to the next iteration of the `while` loop.\n",
      "* **Loop for Multiple Calculations:** The `while True:` loop allows the user to perform multiple calculations without restarting the program.\n",
      "* **Clear User Interface:** The prompts and output are clear and easy to understand.\n",
      "* **`if __name__ == \"__main__\":`:** This standard Python idiom ensures that the `calculator()` function is only called when the script is run directly (not when it's imported as a module).\n",
      "* **Case-insensitive \"yes/no\" input:**  The code uses `.lower()` to handle \"yes\" or \"no\" input regardless of capitalization.\n",
      "* **Handles invalid \"yes/no\" input:** Instead of crashing if the user types something other than yes/no the default behavior is to continue calculations.\n",
      "\n",
      "How to Run:\n",
      "\n",
      "1.  **Save:** Save the code as a `.py` file (e.g., `calculator.py`).\n",
      "2.  **Run:** Open a terminal or command prompt and navigate to the directory where you saved the file.  Then, run the script using `python calculator.py`.\n",
      "\n",
      "Now, the code is much more robust, user-friendly, and handles potential errors gracefully.\n",
      "\n"
     ]
    },
    {
     "name": "stdin",
     "output_type": "stream",
     "text": [
      "you:  exit\n"
     ]
    }
   ],
   "source": [
    "import google.generativeai as genai\n",
    "API_KEY = \"XYZ_API\"\n",
    "genai.configure(api_key=API_KEY)\n",
    "model = genai.GenerativeModel(\"gemini-2.0-flash\")\n",
    "chat = model.start_chat()\n",
    "\n",
    "\n",
    "print(\"Chat with Gemini! Type 'exit' to quit.\")\n",
    "while True:\n",
    "    user_input = input(\"you: \")\n",
    "    if user_input.lower() == \"exit\" :\n",
    "        break\n",
    "    response = chat.send_message(user_input)\n",
    "    print(\"Gemini\",response.text)"
   ]
  },
  {
   "cell_type": "code",
   "execution_count": null,
   "id": "9e2783d5-a87d-4b6c-8664-90f71773220d",
   "metadata": {},
   "outputs": [],
   "source": []
  },
  {
   "cell_type": "code",
   "execution_count": 3,
   "id": "b2661fad-6a61-433f-9951-f401dc224a64",
   "metadata": {},
   "outputs": [],
   "source": []
  },
  {
   "cell_type": "code",
   "execution_count": 4,
   "id": "f5d20b83-30f0-4c67-82a6-4bf2ed41a662",
   "metadata": {},
   "outputs": [],
   "source": []
  },
  {
   "cell_type": "code",
   "execution_count": 5,
   "id": "3e5cf62e-78de-4e8b-8276-075b766cfc78",
   "metadata": {},
   "outputs": [],
   "source": []
  },
  {
   "cell_type": "code",
   "execution_count": 6,
   "id": "d4f34569-8676-4762-a201-f1b56c9639a9",
   "metadata": {},
   "outputs": [],
   "source": []
  },
  {
   "cell_type": "code",
   "execution_count": 7,
   "id": "deda6f9b-db1d-45f9-9d6f-b34299af5843",
   "metadata": {},
   "outputs": [],
   "source": []
  },
  {
   "cell_type": "code",
   "execution_count": null,
   "id": "fcad9afd-ef61-460b-b4c1-a3403f234ba1",
   "metadata": {},
   "outputs": [],
   "source": []
  }
 ],
 "metadata": {
  "kernelspec": {
   "display_name": "Python 3 (ipykernel)",
   "language": "python",
   "name": "python3"
  },
  "language_info": {
   "codemirror_mode": {
    "name": "ipython",
    "version": 3
   },
   "file_extension": ".py",
   "mimetype": "text/x-python",
   "name": "python",
   "nbconvert_exporter": "python",
   "pygments_lexer": "ipython3",
   "version": "3.11.7"
  }
 },
 "nbformat": 4,
 "nbformat_minor": 5
}
